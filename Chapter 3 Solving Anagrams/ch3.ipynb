{
 "cells": [
  {
   "cell_type": "code",
   "execution_count": 1,
   "metadata": {},
   "outputs": [
    {
     "data": {
      "text/plain": [
       "['o', 'p', 's', 't']"
      ]
     },
     "execution_count": 1,
     "metadata": {},
     "output_type": "execute_result"
    }
   ],
   "source": [
    "word = sorted(list('stop'))\n",
    "word"
   ]
  },
  {
   "cell_type": "code",
   "execution_count": 2,
   "metadata": {},
   "outputs": [
    {
     "data": {
      "text/plain": [
       "['o', 'p', 's', 't']"
      ]
     },
     "execution_count": 2,
     "metadata": {},
     "output_type": "execute_result"
    }
   ],
   "source": [
    "anagram = sorted(list('pots'))\n",
    "anagram"
   ]
  },
  {
   "cell_type": "code",
   "execution_count": 3,
   "metadata": {},
   "outputs": [
    {
     "data": {
      "text/plain": [
       "True"
      ]
     },
     "execution_count": 3,
     "metadata": {},
     "output_type": "execute_result"
    }
   ],
   "source": [
    "anagram == word"
   ]
  },
  {
   "cell_type": "code",
   "execution_count": 4,
   "metadata": {},
   "outputs": [],
   "source": [
    "from itertools import permutations"
   ]
  },
  {
   "cell_type": "code",
   "execution_count": 5,
   "metadata": {},
   "outputs": [],
   "source": [
    "name= 'vdloe'\n",
    "\n",
    "perms = [''.join(i) for i in permutations(name)]"
   ]
  },
  {
   "cell_type": "code",
   "execution_count": 6,
   "metadata": {},
   "outputs": [
    {
     "name": "stdout",
     "output_type": "stream",
     "text": [
      "120\n"
     ]
    }
   ],
   "source": [
    "print(len(perms))"
   ]
  },
  {
   "cell_type": "code",
   "execution_count": 44,
   "metadata": {},
   "outputs": [
    {
     "data": {
      "text/plain": [
       "120"
      ]
     },
     "execution_count": 44,
     "metadata": {},
     "output_type": "execute_result"
    }
   ],
   "source": [
    "len(set(perms))"
   ]
  },
  {
   "cell_type": "code",
   "execution_count": 8,
   "metadata": {},
   "outputs": [],
   "source": [
    "from math import factorial"
   ]
  },
  {
   "cell_type": "code",
   "execution_count": 9,
   "metadata": {},
   "outputs": [
    {
     "data": {
      "text/plain": [
       "181440.0"
      ]
     },
     "execution_count": 9,
     "metadata": {},
     "output_type": "execute_result"
    }
   ],
   "source": [
    "factorial(9) / 2"
   ]
  },
  {
   "cell_type": "code",
   "execution_count": 13,
   "metadata": {},
   "outputs": [
    {
     "data": {
      "text/plain": [
       "['ate', 'aet', 'tae', 'tea', 'eat', 'eta']"
      ]
     },
     "execution_count": 13,
     "metadata": {},
     "output_type": "execute_result"
    }
   ],
   "source": [
    "[''.join(i) for i in permutations('ate')]"
   ]
  },
  {
   "cell_type": "code",
   "execution_count": 20,
   "metadata": {},
   "outputs": [
    {
     "name": "stdout",
     "output_type": "stream",
     "text": [
      "(0, 1, 2)\n",
      "(0, 2, 1)\n",
      "(1, 0, 2)\n",
      "(1, 2, 0)\n",
      "(2, 0, 1)\n",
      "(2, 1, 0)\n"
     ]
    }
   ],
   "source": [
    "for i in permutations(range(3), 3):\n",
    "    print(i)"
   ]
  },
  {
   "cell_type": "code",
   "execution_count": 21,
   "metadata": {},
   "outputs": [
    {
     "data": {
      "text/plain": [
       "'polwer'"
      ]
     },
     "execution_count": 21,
     "metadata": {},
     "output_type": "execute_result"
    }
   ],
   "source": [
    "name = 'PolWer'.lower()\n",
    "name"
   ]
  },
  {
   "cell_type": "code",
   "execution_count": 38,
   "metadata": {},
   "outputs": [],
   "source": [
    "a = {'q', 'r', '1', '90', 'er', '123', 'tr'}"
   ]
  },
  {
   "cell_type": "code",
   "execution_count": 39,
   "metadata": {},
   "outputs": [
    {
     "data": {
      "text/plain": [
       "['9090', 'qq', 'trtr', 'rr', '11', '123123', 'erer']"
      ]
     },
     "execution_count": 39,
     "metadata": {},
     "output_type": "execute_result"
    }
   ],
   "source": [
    "[i*2 for i in a]"
   ]
  },
  {
   "cell_type": "code",
   "execution_count": 40,
   "metadata": {},
   "outputs": [
    {
     "data": {
      "text/plain": [
       "{'90', 'er', 'tr'}"
      ]
     },
     "execution_count": 40,
     "metadata": {},
     "output_type": "execute_result"
    }
   ],
   "source": [
    "{word.lower() for word in a\n",
    "                     if len(word) == 2}"
   ]
  },
  {
   "cell_type": "code",
   "execution_count": 42,
   "metadata": {},
   "outputs": [
    {
     "data": {
      "text/plain": [
       "{'a', 'e', 'i', 'o', 'u', 'y'}"
      ]
     },
     "execution_count": 42,
     "metadata": {},
     "output_type": "execute_result"
    }
   ],
   "source": [
    "set('aeiouy')"
   ]
  },
  {
   "cell_type": "code",
   "execution_count": 58,
   "metadata": {},
   "outputs": [],
   "source": [
    "def tri(filter_1: set[str], trigram: list[str]):\n",
    "    \"\"\"Remove unlikely trigrams from permutations.\"\"\"\n",
    "    filtered = set()\n",
    "    for candidate in filter_1:\n",
    "        for triplet in trigram:\n",
    "            triplet = triplet.lower()\n",
    "            if triplet in candidate:\n",
    "                filtered.add(candidate)\n",
    "    \n",
    "    filter_2 = filter_1 - filtered\n",
    "    print(f'# Choices after filter_2 = {len(filter_2)}')\n",
    "    return filter_2\n",
    "\n",
    "def tri2(filter_1: set[str], trigram: list[str]):\n",
    "    \"\"\"Remove unlikely trigrams from permutations.\"\"\"\n",
    "    filtered = {cand for triplet in trigram  for cand in filter_1 if triplet.lower() in cand}\n",
    "    \n",
    "    filter_2 = filter_1 - filtered\n",
    "    print(f'# Choices after filter_2 = {len(filter_2)}')\n",
    "    return filter_2\n",
    "\n",
    "a = 'This function will return only permutations that include one of these trigrams; the main() function will pass the new set to the next filter function.'\n",
    "a = {i for i in a.split()}\n",
    "\n",
    "b = 'tpl, cti clu ext ain'\n",
    "b = [i for i in b.split()]"
   ]
  },
  {
   "cell_type": "code",
   "execution_count": 59,
   "metadata": {},
   "outputs": [
    {
     "name": "stdout",
     "output_type": "stream",
     "text": [
      "# Choices after filter_2 = 21\n"
     ]
    },
    {
     "data": {
      "text/plain": [
       "{'This',\n",
       " 'filter',\n",
       " 'function',\n",
       " 'function.',\n",
       " 'include',\n",
       " 'main()',\n",
       " 'new',\n",
       " 'next',\n",
       " 'of',\n",
       " 'one',\n",
       " 'only',\n",
       " 'pass',\n",
       " 'permutations',\n",
       " 'return',\n",
       " 'set',\n",
       " 'that',\n",
       " 'the',\n",
       " 'these',\n",
       " 'to',\n",
       " 'trigrams;',\n",
       " 'will'}"
      ]
     },
     "execution_count": 59,
     "metadata": {},
     "output_type": "execute_result"
    }
   ],
   "source": [
    "tri2(a, b)"
   ]
  },
  {
   "cell_type": "code",
   "execution_count": 51,
   "metadata": {},
   "outputs": [
    {
     "name": "stdout",
     "output_type": "stream",
     "text": [
      "# Choices after filter_2 = 16\n"
     ]
    },
    {
     "data": {
      "text/plain": [
       "{'This',\n",
       " 'filter',\n",
       " 'new',\n",
       " 'of',\n",
       " 'one',\n",
       " 'only',\n",
       " 'pass',\n",
       " 'permutations',\n",
       " 'return',\n",
       " 'set',\n",
       " 'that',\n",
       " 'the',\n",
       " 'these',\n",
       " 'to',\n",
       " 'trigrams;',\n",
       " 'will'}"
      ]
     },
     "execution_count": 51,
     "metadata": {},
     "output_type": "execute_result"
    }
   ],
   "source": [
    "tri(a, b)"
   ]
  },
  {
   "cell_type": "code",
   "execution_count": 62,
   "metadata": {},
   "outputs": [
    {
     "data": {
      "text/plain": [
       "{2, 3}"
      ]
     },
     "execution_count": 62,
     "metadata": {},
     "output_type": "execute_result"
    }
   ],
   "source": [
    "{1, 2, 3} - {'a', 1, '4'}"
   ]
  },
  {
   "cell_type": "code",
   "execution_count": null,
   "metadata": {},
   "outputs": [],
   "source": []
  }
 ],
 "metadata": {
  "kernelspec": {
   "display_name": ".venv",
   "language": "python",
   "name": "python3"
  },
  "language_info": {
   "codemirror_mode": {
    "name": "ipython",
    "version": 3
   },
   "file_extension": ".py",
   "mimetype": "text/x-python",
   "name": "python",
   "nbconvert_exporter": "python",
   "pygments_lexer": "ipython3",
   "version": "3.12.0"
  }
 },
 "nbformat": 4,
 "nbformat_minor": 2
}
